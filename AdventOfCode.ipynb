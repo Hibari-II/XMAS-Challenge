{
 "metadata": {
  "language_info": {
   "codemirror_mode": {
    "name": "ipython",
    "version": 3
   },
   "file_extension": ".py",
   "mimetype": "text/x-python",
   "name": "python",
   "nbconvert_exporter": "python",
   "pygments_lexer": "ipython3",
   "version": "3.7.4-final"
  },
  "orig_nbformat": 2,
  "kernelspec": {
   "name": "python3",
   "display_name": "Python 3",
   "language": "python"
  }
 },
 "nbformat": 4,
 "nbformat_minor": 2,
 "cells": [
  {
   "cell_type": "code",
   "execution_count": 169,
   "metadata": {},
   "outputs": [
    {
     "output_type": "stream",
     "name": "stdout",
     "text": [
      "1472 + 548 = 2020\nPart 1: 806656\n807 + 320 + 893 = 2020\nPart 2: 230608320\n"
     ]
    }
   ],
   "source": [
    "# Day 1 \n",
    "def openFile(filePath: str = 'example1.txt') -> list:\n",
    "    l = list()\n",
    "    with open(filePath, 'r') as file:\n",
    "        for line in file.readlines():\n",
    "            c = line.split(sep='\\n')[0]\n",
    "            l.append(int(c))\n",
    "    return l\n",
    "\n",
    "def calculate(lnum: list, isPartOne: bool = True):\n",
    "    if (isPartOne):\n",
    "        for i in range(len(l)):\n",
    "            for j in range(i,len(l)):\n",
    "                if (l[i] + l[j] == 2020):\n",
    "                    print('{} + {} = {}'.format(l[i], l[j], l[i] + l[j]))\n",
    "                    print('Part 1: {}'.format(l[i] * l[j]))\n",
    "    else:\n",
    "        for i in range(len(l)):\n",
    "            for j in range(i,len(l)):\n",
    "                for k in range(j,len(l)):\n",
    "                    first = l[i]\n",
    "                    second = l[j]\n",
    "                    third = l[k]\n",
    "                    if (first + second + third == 2020):\n",
    "                        print('{} + {} + {} = {}'.format(first,second,third, first + second + third))\n",
    "                        print('Part 2: {}'.format(first*second*third))\n",
    "\n",
    "l = openFile()\n",
    "calculate(l)\n",
    "calculate(l, False)"
   ]
  },
  {
   "cell_type": "code",
   "execution_count": 164,
   "metadata": {},
   "outputs": [
    {
     "output_type": "stream",
     "name": "stdout",
     "text": [
      "Part 1 Result: 643\nPart 2 Result: 388\n"
     ]
    }
   ],
   "source": [
    "# Day 2 \n",
    "def openFile(filePath: str = 'example2.txt') -> list:\n",
    "    pwd = list()\n",
    "    with open(filePath, 'r') as file:\n",
    "        for line in file.readlines():\n",
    "            # pwd contains Policies & Password\n",
    "            cur = line.split(': ')\n",
    "            pwd.append((cur[0], cur[1]))\n",
    "    return pwd\n",
    "\n",
    "# Function for Part 1\n",
    "def checkPassword(pwd: list) -> int:\n",
    "    countValidPassword = 0\n",
    "    for p in pwd:\n",
    "        policies = p[0].split(sep=' ')\n",
    "        min = int(policies[0].split('-')[0])\n",
    "        max = int(policies[0].split('-')[1])\n",
    "        character = policies[1]\n",
    "        password = p[1]\n",
    "        countChar = 0\n",
    "\n",
    "        for c in p[1]:\n",
    "            if c == character:\n",
    "                countChar += 1\n",
    "        if (countChar >= min and countChar <= max):\n",
    "            countValidPassword += 1\n",
    "    else:\n",
    "        return countValidPassword\n",
    "\n",
    "# Function for Part 2\n",
    "def checkPasswordAdvanced(pwd: list) -> int:\n",
    "    countValidPassword = 0\n",
    "    for p in pwd:\n",
    "        policies = p[0].split(sep=' ')\n",
    "        min = int(policies[0].split('-')[0])\n",
    "        max = int(policies[0].split('-')[1])\n",
    "        character = policies[1]\n",
    "        password = p[1]\n",
    "        if ((character == password[min-1]) != (character == password[max-1])):\n",
    "            countValidPassword += 1\n",
    "    else:\n",
    "        return countValidPassword\n",
    "\n",
    "pwd = openFile()\n",
    "print(\"Part 1 Result: {0}\".format(checkPassword(pwd)))\n",
    "print(\"Part 2 Result: {0}\".format(checkPasswordAdvanced(pwd)))\n"
   ]
  },
  {
   "cell_type": "code",
   "execution_count": 150,
   "metadata": {
    "tags": []
   },
   "outputs": [
    {
     "output_type": "stream",
     "name": "stdout",
     "text": [
      "84\n228\n89\n100\n40\n6818112000\n"
     ]
    }
   ],
   "source": [
    "# Day 3 (Advanced)\n",
    "def openFile(filePath: str = 'example3.txt') -> list:\n",
    "    field = list()\n",
    "    with open(filePath, 'r') as file:\n",
    "        for line in file.readlines():\n",
    "            field.append(line)\n",
    "    return field\n",
    "\n",
    "def slopes(field: list, direction: tuple) -> int:\n",
    "    numOfRows = len(field)\n",
    "    rowLength = len(field[0]) - 1\n",
    "    countTrees = 0\n",
    "    curPosX = 0\n",
    "    xIncrement = direction[0]\n",
    "    yIncrement = direction[1]\n",
    "\n",
    "    for i in range(yIncrement, numOfRows, yIncrement):\n",
    "        curPosX += xIncrement\n",
    "        if (curPosX >= rowLength):\n",
    "            curPosX = curPosX % rowLength\n",
    "        if (field[i][curPosX] == '#'):\n",
    "            countTrees += 1\n",
    "    return countTrees\n",
    "\n",
    "\n",
    "field = openFile()\n",
    "print(\"Part 1: {0}\".format(slopes(field,(3,1))))\n",
    "\n",
    "# For Day 3 Part 2\n",
    "result = 1\n",
    "slopesDirection = [(1,1),(3,1),(5,1),(7,1),(1,2)]\n",
    "\n",
    "for i in range(len(slopesDirection)):\n",
    "    result *= slopes(field, slopesDirection[i])\n",
    "print(\"Part 2: {0}\".format(result))"
   ]
  }
 ]
}